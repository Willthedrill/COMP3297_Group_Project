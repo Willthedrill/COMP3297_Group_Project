{
 "cells": [
  {
   "cell_type": "markdown",
   "metadata": {},
   "source": [
    "# API Documentation for Studysafe-Trace\n",
    "***"
   ]
  },
  {
   "cell_type": "markdown",
   "metadata": {},
   "source": [
    "## Content\n",
    "#### 1.  Dependencies\n",
    "#### 2.  Introductions\n",
    "#### 3.  View, insert, modify venue record\n",
    "#### 4.  View, insert, modify studnet record\n",
    "#### 5.  Insert/Delete Enter/Exit Record\n",
    "#### 6.  Better Representation\n",
    "***"
   ]
  },
  {
   "cell_type": "markdown",
   "metadata": {},
   "source": [
    "## Dependencies\n"
   ]
  },
  {
   "cell_type": "markdown",
   "metadata": {},
   "source": [
    "### Python version and packages\n",
    "Python version~=3.9\n",
    "\n",
    "Dependencies for the project includes the following: \n",
    "* django = \"~=4.0\"\n",
    "* gunicorn = \"\\*\"\n",
    "* requests = \"\\*\"\n",
    "* environs = {extras = [\"django\"], version = \"\\*\"}\n",
    "* djangorestframework = \"\\*\"\n",
    "* pandas = \"\\*\"\n",
    "* numpy = \"\\*\"\n",
    "* grpcio = \"\\*\"\n",
    "* ipython = \"\\*\"\n",
    "* django-extensions = \"\\*\"\n",
    "* notebook = \"\\*\"\n",
    "* pyyaml = \"\\*\"\n",
    "* uritemplate = \"\\*\""
   ]
  },
  {
   "cell_type": "markdown",
   "metadata": {},
   "source": [
    "### To fast install dependencies in virtual environment: \n",
    "1. Make sure pipenv package is installed in python. If pipenv is not availeble, run the following code first: \n",
    "```\n",
    "pip install pipenv\n",
    "```\n",
    "2. \n",
    "```\n",
    "pipenv install\n",
    "pipenv shell\n",
    "```"
   ]
  },
  {
   "cell_type": "markdown",
   "metadata": {},
   "source": [
    "## Introduction"
   ]
  },
  {
   "cell_type": "markdown",
   "metadata": {},
   "source": [
    "***\n",
    "\n",
    "##### Studysafe Trace is an API designed for maintaining records of the times at which members of HKU enter and exit enclosed public venues such as classrooms and lecture theatres on campus.\n",
    "##### Main consumer of this API are devices across HKU campus and Studysafe Trace, a product for conveniently tracking the visited venue and close contacts of a infectious student. \n",
    "##### It maintains Venue and Member records of HKU, and can be used to record every enter/exit record made by a HKU Member to/from monitored Venues. The database supports the needs of StudySafe Trace by identifying Member and Venue, and the date and time of entry or exit\n",
    "\n",
    "##### The endpoint for Studysafe Trace is deployed at: https://shielded-tor-28383.herokuapp.com/studysafe_core/api_trace. In order to use the endpoint type of command and relevant information must be provided through data parameter in the request. Details will be specified in the following sections. \n",
    "##### Details of this documentation can be found under source code folder, in api_documentation_studysafe_core.ipynb"
   ]
  },
  {
   "cell_type": "markdown",
   "metadata": {},
   "source": [
    "## View, insert, modify venue record"
   ]
  },
  {
   "cell_type": "markdown",
   "metadata": {},
   "source": [
    "***\n",
    "\n",
    "##### Studysafe Trace API mainly takes in two inputs, type(required) and content(optional). Content input should be a list of dictionaries carrying the required data fields for the command. Type and content should be wrapped inside a dictionary, and passed to the request through data parameter as json dumped data. \n",
    "### Inputs: \n",
    "#### Type Parameter: \n",
    "modifications for venue records: ['create_venue','list_all_venue','view_venue','modify_venue','delete_venue']\n",
    "\n",
    "modifications for student records: ['create_student','delete_student','list_all_students','search_student']\n",
    "\n",
    "modifications for enter/exit records: ['create','delete']\n",
    "#### Content Parameter: \n",
    "Content parameter should be a list of dictionaries carrying information needed in each command, and should vary according to the command type. Details would be illustrated in later sections. \n",
    "\n",
    "#### **Studysafe Trace allows for simultaneously carrying out multiple commands of the same type in one request, by including multiple dictionaries in the content list.**\n",
    "\n",
    "Examples: \n",
    "```\n",
    "{\"type\":\"create_student\",\"content\":[{\"hkuid\":\"29706\",\"name\":\"Chan, Tai Man\"},{\"hkuid\":\"3035535066\",\"name\":\"Chandler Bing\"}]}\n",
    "{\"type\":\"modify_venue\",\"content\":[{\"venue_code\":\"TT403\",\"location\":\"\",\"type\":\"\",\"capacity\":\"120\"}]}\n",
    "{\"type\":\"list_all_students\"}\n",
    "\n",
    "```\n",
    "### Outputs: \n",
    "The API would return a json type return that requires json loading to decode. The recommanded way of loading the content of return is: \n",
    "```\n",
    "json.loads(response.content.decode('utf-8'))\n",
    "```\n",
    "After decoding, the return value is a dictionary carrying state of command and relevant information. \n",
    "```\n",
    "[{'state': 'success',\n",
    "  'cmd': 'list_all',\n",
    "  'data': [{'venue_code': 'CPD-2.58',\n",
    "    'location': 'Centennial Campus, Central Podium Levels - Two',\n",
    "    'type': 'LT',\n",
    "    'capacity': 100},\n",
    "   {'venue_code': 'KK101',\n",
    "    'location': 'K.K. Leung Building, Main Campus',\n",
    "    'type': 'LT',\n",
    "    'capacity': 120},\n",
    "   {'venue_code': 'MB135',\n",
    "    'location': 'Main Building, Main Campus',\n",
    "    'type': 'TR',\n",
    "    'capacity': 14},\n",
    "   {'venue_code': 'TT403',\n",
    "    'location': 'Main Campus, T.T. Tsui Building',\n",
    "    'type': 'CR',\n",
    "    'capacity': 120}]}]\n",
    "```"
   ]
  },
  {
   "cell_type": "markdown",
   "metadata": {},
   "source": [
    "### View All Venue records-list_all_venue\n",
    "***\n",
    "**Content input not required**\n",
    "\n",
    "**Reponse**\\\n",
    "Reponse Code 200: Success\\\n",
    "Reponse Content: State, Command and Summary of data requested"
   ]
  },
  {
   "cell_type": "code",
   "execution_count": 6,
   "metadata": {},
   "outputs": [],
   "source": [
    "#import modules for demonstration purpose\n",
    "import requests\n",
    "import datetime\n",
    "import json\n",
    "import random\n",
    "import pandas as pd"
   ]
  },
  {
   "cell_type": "code",
   "execution_count": 44,
   "metadata": {},
   "outputs": [
    {
     "data": {
      "text/plain": [
       "[{'state': 'success',\n",
       "  'cmd': 'list_all',\n",
       "  'data': [{'venue_code': 'CPD-2.58',\n",
       "    'location': 'Centennial Campus, Central Podium Levels - Two',\n",
       "    'type': 'LT',\n",
       "    'capacity': 100},\n",
       "   {'venue_code': 'KK101',\n",
       "    'location': 'K.K. Leung Building, Main Campus',\n",
       "    'type': 'LT',\n",
       "    'capacity': 120},\n",
       "   {'venue_code': 'MB135',\n",
       "    'location': 'Main Building, Main Campus',\n",
       "    'type': 'TR',\n",
       "    'capacity': 14},\n",
       "   {'venue_code': 'TT403',\n",
       "    'location': 'Main Campus, T.T. Tsui Building',\n",
       "    'type': 'CR',\n",
       "    'capacity': 120}]}]"
      ]
     },
     "execution_count": 44,
     "metadata": {},
     "output_type": "execute_result"
    }
   ],
   "source": [
    "core_path=\"https://shielded-tor-28383.herokuapp.com/studysafe_core/api_device\"\n",
    "params={\"type\":\"list_all_venue\"}\n",
    "response=requests.post(core_path,data=json.dumps(params),headers = {'content-type':'application/json'})\n",
    "json.loads(response.content)"
   ]
  },
  {
   "cell_type": "markdown",
   "metadata": {},
   "source": [
    "### View information about one venue: view_venue\n",
    "***\n",
    "**Parameters in Content:**\\\n",
    "**Venue Code**: \\\n",
    "type: string\\\n",
    "requirement: maximum length 20\n",
    "\n",
    "**Reponse**\\\n",
    "Reponse Code 200: Success\\\n",
    "Reponse Content: State and Data requested"
   ]
  },
  {
   "cell_type": "code",
   "execution_count": 35,
   "metadata": {},
   "outputs": [
    {
     "data": {
      "text/plain": [
       "[{'state': 'success',\n",
       "  'data': [{'venue_code': 'TT403',\n",
       "    'location': 'Main Campus, T.T. Tsui Building',\n",
       "    'type': 'CR',\n",
       "    'capacity': 120}]}]"
      ]
     },
     "execution_count": 35,
     "metadata": {},
     "output_type": "execute_result"
    }
   ],
   "source": [
    "core_path=\"https://shielded-tor-28383.herokuapp.com/studysafe_core/api_device\"\n",
    "params={\"type\":\"view_venue\",\"content\":[{\"venue_code\":\"TT403\"}]}\n",
    "response=requests.post(core_path,data=json.dumps(params),headers = {'content-type':'application/json'})\n",
    "json.loads(response.content.decode('utf-8'))"
   ]
  },
  {
   "cell_type": "markdown",
   "metadata": {},
   "source": [
    "### Modify information about one venue: modify_venue\n",
    "***\n",
    "**Parameters in Content:**\\\n",
    "**If one parameter is not required to be modified, can be set to be empty string \"\" to avoid mofification.** \\\n",
    "**Venue Code**: \\\n",
    "type: string\\\n",
    "requirement: maximum length 20\\\n",
    "**Location**: \\\n",
    "type: string\\\n",
    "requirement: maximum length 150\\\n",
    "**type**: \\\n",
    "type: string\\\n",
    "requirement: can only be in ['LT','CR','TR']\\\n",
    "**capacity**: \\\n",
    "type: string\\\n",
    "requirement: string of positive integer\n",
    "\n",
    "**Reponse**\\\n",
    "Reponse Code 200: Success\\\n",
    "Reponse Content: Summary of the command executed"
   ]
  },
  {
   "cell_type": "code",
   "execution_count": 43,
   "metadata": {},
   "outputs": [
    {
     "data": {
      "text/plain": [
       "[{'state': \"Successfully modified venue with parameters {'venue_code': 'TT403', 'capacity': '120'}\"}]"
      ]
     },
     "execution_count": 43,
     "metadata": {},
     "output_type": "execute_result"
    }
   ],
   "source": [
    "core_path=\"https://shielded-tor-28383.herokuapp.com/studysafe_core/api_device\"\n",
    "params={\"type\":\"modify_venue\",\"content\":[{\"venue_code\":\"TT403\",\"location\":\"\",\"type\":\"\",\"capacity\":\"120\"}]}\n",
    "response=requests.post(core_path,data=json.dumps(params),headers = {'content-type':'application/json'})\n",
    "json.loads(response.content.decode('utf-8'))"
   ]
  },
  {
   "cell_type": "markdown",
   "metadata": {},
   "source": [
    "### Create record of a venue: create_venue\n",
    "***\n",
    "**Parameters in Content:**\\\n",
    "**Venue Code**: \\\n",
    "type: string\\\n",
    "requirement: maximum length 20\\\n",
    "**Location**: \\\n",
    "type: string\\\n",
    "requirement: maximum length 150\\\n",
    "**type**: \\\n",
    "type: string\\\n",
    "requirement: can only be in ['LT','CR','TR']\\\n",
    "**capacity**: \\\n",
    "type: string\\\n",
    "requirement: string of positive integer\n",
    "\n",
    "**Reponse**\\\n",
    "Reponse Code 200: Success\\\n",
    "Reponse Content: Summary of the command executed"
   ]
  },
  {
   "cell_type": "code",
   "execution_count": 40,
   "metadata": {},
   "outputs": [
    {
     "data": {
      "text/plain": [
       "[{'state': 'successfully created item with the following record: TT404//Main Campus, T.T. Tsui Building//CR//120'}]"
      ]
     },
     "execution_count": 40,
     "metadata": {},
     "output_type": "execute_result"
    }
   ],
   "source": [
    "core_path=\"https://shielded-tor-28383.herokuapp.com/studysafe_core/api_device\"\n",
    "params={\"type\":\"create_venue\",\"content\":[{\"venue_code\":\"TT404\",\"location\":\"Main Campus, T.T. Tsui Building\",\"type\":\"CR\",\"capacity\":\"120\"}]}\n",
    "response=requests.post(core_path,data=json.dumps(params),headers = {'content-type':'application/json'})\n",
    "json.loads(response.content.decode('utf-8'))"
   ]
  },
  {
   "cell_type": "markdown",
   "metadata": {},
   "source": [
    "### Delete record of one venue: delete_venue\n",
    "***\n",
    "**Parameters in Content:**\\\n",
    "**Venue Code**: \\\n",
    "type: string\\\n",
    "requirement: maximum length 20\n",
    "\n",
    "**Reponse**\\\n",
    "Reponse Code 200: Success\n",
    "Reponse Content: Summary of the command executed"
   ]
  },
  {
   "cell_type": "code",
   "execution_count": 41,
   "metadata": {},
   "outputs": [
    {
     "data": {
      "text/plain": [
       "[{'state': 'Successfully Deleted venue TT404'}]"
      ]
     },
     "execution_count": 41,
     "metadata": {},
     "output_type": "execute_result"
    }
   ],
   "source": [
    "core_path=\"https://shielded-tor-28383.herokuapp.com/studysafe_core/api_device\"\n",
    "params={\"type\":\"delete_venue\",\"content\":[{\"venue_code\":\"TT404\"}]}\n",
    "response=requests.post(core_path,data=json.dumps(params),headers = {'content-type':'application/json'})\n",
    "json.loads(response.content.decode('utf-8'))"
   ]
  },
  {
   "cell_type": "markdown",
   "metadata": {},
   "source": [
    "## View, insert, modify student record"
   ]
  },
  {
   "cell_type": "markdown",
   "metadata": {},
   "source": [
    "### View All Student records-list_all_student\n",
    "***\n",
    "**Content input not required**\n",
    "\n",
    "**Reponse**\\\n",
    "Reponse Code 200: Success\\\n",
    "Reponse Content: state, command, and data requested"
   ]
  },
  {
   "cell_type": "code",
   "execution_count": 45,
   "metadata": {},
   "outputs": [
    {
     "data": {
      "text/plain": [
       "[{'state': 'Success',\n",
       "  'cmd': 'list_all',\n",
       "  'data': [{'hkuid': '29705', 'name': 'Cheung, Ka Fai'},\n",
       "   {'hkuid': '3023776542', 'name': 'Loo, Chi Nan'},\n",
       "   {'hkuid': '3024932785', 'name': 'Chai, Wun Ching'},\n",
       "   {'hkuid': '3025258327', 'name': 'Yip, Yau Shing'},\n",
       "   {'hkuid': '3025704501', 'name': 'Lok, Wing Ching'},\n",
       "   {'hkuid': '32154', 'name': 'Chan, Weng Yip'},\n",
       "   {'hkuid': '33623', 'name': 'Lai, Cheuk Man'}]}]"
      ]
     },
     "execution_count": 45,
     "metadata": {},
     "output_type": "execute_result"
    }
   ],
   "source": [
    "core_path=\"https://shielded-tor-28383.herokuapp.com/studysafe_core/api_device\"\n",
    "params={\"type\":\"list_all_students\"}\n",
    "response=requests.post(core_path,data=json.dumps(params),headers = {'content-type':'application/json'})\n",
    "json.loads(response.content.decode('utf-8'))"
   ]
  },
  {
   "cell_type": "markdown",
   "metadata": {},
   "source": [
    "### View information about one student: search_student\n",
    "***\n",
    "**Parameters in Content:**\\\n",
    "**hkuid**: \\\n",
    "type: string\\\n",
    "requirement: maximum length 10\n",
    "\n",
    "**Reponse**\\\n",
    "Reponse Code 200: Success\\\n",
    "Reponse Content: state, command, and information of the command executed"
   ]
  },
  {
   "cell_type": "code",
   "execution_count": 46,
   "metadata": {},
   "outputs": [
    {
     "data": {
      "text/plain": [
       "[{'state': 'Success',\n",
       "  'cmd': 'search_student',\n",
       "  'data': [{'hkuid': '29705', 'name': 'Cheung, Ka Fai'}]}]"
      ]
     },
     "execution_count": 46,
     "metadata": {},
     "output_type": "execute_result"
    }
   ],
   "source": [
    "core_path=\"https://shielded-tor-28383.herokuapp.com/studysafe_core/api_device\"\n",
    "params={\"type\":\"search_student\",\"content\":[{\"hkuid\":\"29705\"}]}\n",
    "response=requests.post(core_path,data=json.dumps(params),headers = {'content-type':'application/json'})\n",
    "json.loads(response.content.decode('utf-8'))"
   ]
  },
  {
   "cell_type": "markdown",
   "metadata": {},
   "source": [
    "### Update information about one student: update_student\n",
    "***\n",
    "**Parameters in Content:**\\\n",
    "**hkuid**: \\\n",
    "type: string\\\n",
    "requirement: maximum length 10\\\n",
    "**name**: \\\n",
    "type: string\\\n",
    "requirement: maximum length 150\n",
    "\n",
    "**Reponse**\\\n",
    "Reponse Code 200: Success\\\n",
    "Reponse Content: state, command, and information of the command executed"
   ]
  },
  {
   "cell_type": "code",
   "execution_count": 47,
   "metadata": {},
   "outputs": [
    {
     "data": {
      "text/plain": [
       "[{'state': 'HKU member record updated successfully with new name Cheung, Ka Fai'}]"
      ]
     },
     "execution_count": 47,
     "metadata": {},
     "output_type": "execute_result"
    }
   ],
   "source": [
    "core_path=\"https://shielded-tor-28383.herokuapp.com/studysafe_core/api_device\"\n",
    "params={\"type\":\"update_student\",\"content\":[{\"hkuid\":\"29705\",\"name\":\"Cheung, Ka Fai\"}]}\n",
    "response=requests.post(core_path,data=json.dumps(params),headers = {'content-type':'application/json'})\n",
    "json.loads(response.content.decode('utf-8'))"
   ]
  },
  {
   "cell_type": "markdown",
   "metadata": {},
   "source": [
    "### Create record of one student: create_student\n",
    "***\n",
    "**Parameters in Content:**\\\n",
    "**hkuid**: \\\n",
    "type: string\\\n",
    "requirement: maximum length 10\\\n",
    "**name**: \\\n",
    "type: string\\\n",
    "requirement: maximum length 150\n",
    "\n",
    "**Reponse**\\\n",
    "Reponse Code 200: Success\n",
    "Reponse Content: Summary of the command executed"
   ]
  },
  {
   "cell_type": "code",
   "execution_count": 48,
   "metadata": {},
   "outputs": [
    {
     "data": {
      "text/plain": [
       "[{'state': 'successfully created item with the following record: 29706//Chan, Tai Man'}]"
      ]
     },
     "execution_count": 48,
     "metadata": {},
     "output_type": "execute_result"
    }
   ],
   "source": [
    "core_path=\"https://shielded-tor-28383.herokuapp.com/studysafe_core/api_device\"\n",
    "params={\"type\":\"create_student\",\"content\":[{\"hkuid\":\"29706\",\"name\":\"Chan, Tai Man\"}]}\n",
    "response=requests.post(core_path,data=json.dumps(params),headers = {'content-type':'application/json'})\n",
    "json.loads(response.content.decode('utf-8'))"
   ]
  },
  {
   "cell_type": "markdown",
   "metadata": {},
   "source": [
    "### Delete record of one student: delete_student\n",
    "***\n",
    "**Parameters in Content:**\\\n",
    "**hkuid**: \\\n",
    "type: string\\\n",
    "requirement: maximum length 10\\\n",
    "**Reponse**\\\n",
    "Reponse Code 200: Success\\\n",
    "Reponse Content: Summary of the command executed"
   ]
  },
  {
   "cell_type": "code",
   "execution_count": 49,
   "metadata": {},
   "outputs": [
    {
     "data": {
      "text/plain": [
       "[{'state': 'HKU member record deleted successfully: 29706'}]"
      ]
     },
     "execution_count": 49,
     "metadata": {},
     "output_type": "execute_result"
    }
   ],
   "source": [
    "core_path=\"https://shielded-tor-28383.herokuapp.com/studysafe_core/api_device\"\n",
    "params={\"type\":\"delete_student\",\"content\":[{\"hkuid\":\"29706\"}]}\n",
    "response=requests.post(core_path,data=json.dumps(params),headers = {'content-type':'application/json'})\n",
    "json.loads(response.content.decode('utf-8'))"
   ]
  },
  {
   "cell_type": "markdown",
   "metadata": {},
   "source": [
    "## Insert/Delete Enter/Exit Record"
   ]
  },
  {
   "cell_type": "markdown",
   "metadata": {},
   "source": [
    "### Create record of one enter/exit-create\n",
    "***\n",
    "**Parameters in Content:**\\\n",
    "**hkuid**: \\\n",
    "type: string\\\n",
    "requirement: maximum length 10\\\n",
    "**Venue Code**: \\\n",
    "type: string\\\n",
    "requirement: maximum length 20\\\n",
    "**type**: \\\n",
    "type: string\\\n",
    "requirement: type must be in [\"EN\",\"EX\"], where \"EN\" stands for Enter and \"EX\" stands for Exit\\\n",
    "**datetime**: \\\n",
    "type: string\\\n",
    "requirement: datetime must be in the form \"%Y-%m-%d %H:%M:%S\"\n",
    "\n",
    "**Reponse**\\\n",
    "Reponse Code 200: Success\\\n",
    "Reponse Content: Summary of the command executed"
   ]
  },
  {
   "cell_type": "code",
   "execution_count": 65,
   "metadata": {},
   "outputs": [
    {
     "data": {
      "text/plain": [
       "[{'state': 'Successfully Created recordNone',\n",
       "  'cmd': 'create',\n",
       "  'hkuid': '32154',\n",
       "  'recordid': 37,\n",
       "  'venue': 'CPD-2.58',\n",
       "  'datetime': '2022-03-01 00:00:00'}]"
      ]
     },
     "execution_count": 65,
     "metadata": {},
     "output_type": "execute_result"
    }
   ],
   "source": [
    "core_path=\"https://shielded-tor-28383.herokuapp.com/studysafe_core/api_device\"\n",
    "enter_time=datetime.datetime(2022,3,1,0,0)\n",
    "hkuid='32154'\n",
    "venue_code='CPD-2.58'\n",
    "params={'type':'create','content':[{'hkuid':hkuid,'venue_code':venue_code,'datetime':enter_time.strftime('%Y-%m-%d %H:%M:%S'),'type':'EN'}]}\n",
    "response=requests.post(core_path,data=json.dumps(params),headers = {'content-type':'application/json'})\n",
    "json.loads(response.content.decode('utf-8'))"
   ]
  },
  {
   "cell_type": "markdown",
   "metadata": {},
   "source": [
    "### Delete record of one enter/exit-delete\n",
    "***\n",
    "**Parameters in Content:**\\\n",
    "**recordid**: \\\n",
    "type: integer\\\n",
    "requirement: NA\n",
    "\n",
    "**Reponse**\\\n",
    "Reponse Code 200: Success\\\n",
    "Reponse Content: Summary of the command executed"
   ]
  },
  {
   "cell_type": "code",
   "execution_count": 7,
   "metadata": {},
   "outputs": [
    {
     "data": {
      "text/plain": [
       "[{'state': 'Successfully deleted', 'cmd': 'delete', 'recordid': 10}]"
      ]
     },
     "execution_count": 7,
     "metadata": {},
     "output_type": "execute_result"
    }
   ],
   "source": [
    "core_path=\"https://shielded-tor-28383.herokuapp.com/studysafe_core/api_device\"\n",
    "params={'type':'delete','content':[{'recordid':10}]}\n",
    "response=requests.post(core_path,data=json.dumps(params),headers = {'content-type':'application/json'})\n",
    "json.loads(response.content.decode('utf-8'))"
   ]
  },
  {
   "cell_type": "markdown",
   "metadata": {},
   "source": [
    "## Better Representation"
   ]
  },
  {
   "cell_type": "markdown",
   "metadata": {},
   "source": [
    "May use the following defined function for convenient manipulation of data retrieved"
   ]
  },
  {
   "cell_type": "code",
   "execution_count": 15,
   "metadata": {},
   "outputs": [],
   "source": [
    "def display_detail(response,return_df=False):\n",
    "    raw=json.loads(response.content.decode('utf-8'))\n",
    "    for i in range(len(raw)):\n",
    "        try:\n",
    "            if not return_df:\n",
    "                display(pd.DataFrame(raw[i]['data']))\n",
    "        except:\n",
    "            display(raw[i])\n",
    "    if return_df:\n",
    "        try:\n",
    "            return pd.DataFrame(raw[0]['data'])\n",
    "        except Exception as e:\n",
    "            display(str(e))\n",
    "            "
   ]
  },
  {
   "cell_type": "code",
   "execution_count": 16,
   "metadata": {},
   "outputs": [
    {
     "data": {
      "text/html": [
       "<div>\n",
       "<style scoped>\n",
       "    .dataframe tbody tr th:only-of-type {\n",
       "        vertical-align: middle;\n",
       "    }\n",
       "\n",
       "    .dataframe tbody tr th {\n",
       "        vertical-align: top;\n",
       "    }\n",
       "\n",
       "    .dataframe thead th {\n",
       "        text-align: right;\n",
       "    }\n",
       "</style>\n",
       "<table border=\"1\" class=\"dataframe\">\n",
       "  <thead>\n",
       "    <tr style=\"text-align: right;\">\n",
       "      <th></th>\n",
       "      <th>venue_code</th>\n",
       "      <th>location</th>\n",
       "      <th>type</th>\n",
       "      <th>capacity</th>\n",
       "    </tr>\n",
       "  </thead>\n",
       "  <tbody>\n",
       "    <tr>\n",
       "      <th>0</th>\n",
       "      <td>CPD-2.58</td>\n",
       "      <td>Centennial Campus, Central Podium Levels - Two</td>\n",
       "      <td>LT</td>\n",
       "      <td>100</td>\n",
       "    </tr>\n",
       "    <tr>\n",
       "      <th>1</th>\n",
       "      <td>KK101</td>\n",
       "      <td>K.K. Leung Building, Main Campus</td>\n",
       "      <td>LT</td>\n",
       "      <td>120</td>\n",
       "    </tr>\n",
       "    <tr>\n",
       "      <th>2</th>\n",
       "      <td>MB135</td>\n",
       "      <td>Main Building, Main Campus</td>\n",
       "      <td>TR</td>\n",
       "      <td>14</td>\n",
       "    </tr>\n",
       "    <tr>\n",
       "      <th>3</th>\n",
       "      <td>TT403</td>\n",
       "      <td>Main Campus, T.T. Tsui Building</td>\n",
       "      <td>CR</td>\n",
       "      <td>120</td>\n",
       "    </tr>\n",
       "  </tbody>\n",
       "</table>\n",
       "</div>"
      ],
      "text/plain": [
       "  venue_code                                        location type  capacity\n",
       "0   CPD-2.58  Centennial Campus, Central Podium Levels - Two   LT       100\n",
       "1      KK101                K.K. Leung Building, Main Campus   LT       120\n",
       "2      MB135                      Main Building, Main Campus   TR        14\n",
       "3      TT403                 Main Campus, T.T. Tsui Building   CR       120"
      ]
     },
     "execution_count": 16,
     "metadata": {},
     "output_type": "execute_result"
    }
   ],
   "source": [
    "core_path=\"https://shielded-tor-28383.herokuapp.com/studysafe_core/api_device\"\n",
    "params={\"type\":\"list_all_venue\"}\n",
    "response=requests.post(core_path,data=json.dumps(params),headers = {'content-type':'application/json'})\n",
    "venue_df=display_detail(response,return_df=True)\n",
    "venue_df"
   ]
  }
 ],
 "metadata": {
  "interpreter": {
   "hash": "ab5b9eea64e5d7e7eb68b05df47adb6ad57048add55959fe6549673440373be7"
  },
  "kernelspec": {
   "display_name": "Python 3.7.11 ('base')",
   "language": "python",
   "name": "python3"
  },
  "language_info": {
   "codemirror_mode": {
    "name": "ipython",
    "version": 3
   },
   "file_extension": ".py",
   "mimetype": "text/x-python",
   "name": "python",
   "nbconvert_exporter": "python",
   "pygments_lexer": "ipython3",
   "version": "3.7.11"
  },
  "orig_nbformat": 4
 },
 "nbformat": 4,
 "nbformat_minor": 2
}
