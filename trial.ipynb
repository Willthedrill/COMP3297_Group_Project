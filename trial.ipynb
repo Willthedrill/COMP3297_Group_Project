{
 "cells": [
  {
   "cell_type": "code",
   "execution_count": 1,
   "metadata": {},
   "outputs": [],
   "source": [
    "import requests\n",
    "from datetime import datetime\n",
    "import json\n",
    "\n",
    "def json_serialize(params):\n",
    "    return json.dumps(params, indent=4, sort_keys=True, default=str)"
   ]
  },
  {
   "cell_type": "markdown",
   "metadata": {},
   "source": [
    "## For use of device"
   ]
  },
  {
   "cell_type": "code",
   "execution_count": 21,
   "metadata": {},
   "outputs": [],
   "source": [
    "#for inserting record\n",
    "time=datetime(2022,4,16,20,0,0)\n",
    "params1={\"type\":\"create\",\"content\":[{\"hkuid\":\"3035535066\",\"venue\":\"KKL101\",\"datetime\":time.strftime(\"%Y-%m-%d %H:%M:%S\"),\"type\":\"EN\"}]}\n",
    "\n",
    "#for modifying record\n",
    "time=datetime(2022,4,17,0,0,0)\n",
    "params2={\"type\":\"create\",\"content\":[{\"recordid\":1,\"hkuid\":\"3035535066\",\"venue\":\"KKL101\",\"datetime\":time.strftime(\"%Y-%m-%d %H:%M:%S\"),\"type\":\"EX\"}]}\n",
    "\n",
    "#for deleting record with recordid\n",
    "params3={\"type\":\"delete\",\"content\":[{\"recordid\":1}]}\n",
    "\n",
    "#for viewing all record\n",
    "params4={\"type\":\"list\"}\n"
   ]
  },
  {
   "cell_type": "code",
   "execution_count": 22,
   "metadata": {},
   "outputs": [],
   "source": [
    "response=requests.post(\"https://shielded-tor-28383.herokuapp.com/studysafe_core/api_device\",data=json.dumps(params1),headers = {'content-type':'application/json'})"
   ]
  },
  {
   "cell_type": "code",
   "execution_count": 14,
   "metadata": {},
   "outputs": [
    {
     "data": {
      "text/plain": [
       "b'{\"state\":\"success\",\"cmd\":\"create\",\"hkuid\":3035535066,\"recordid\":9,\"venue\":\"KKL101\",\"datetime\":\"2022-04-17 00:00:00\"}'"
      ]
     },
     "execution_count": 14,
     "metadata": {},
     "output_type": "execute_result"
    }
   ],
   "source": [
    "response.content"
   ]
  },
  {
   "cell_type": "markdown",
   "metadata": {},
   "source": [
    "## For use of studysafe_trace"
   ]
  },
  {
   "cell_type": "code",
   "execution_count": 48,
   "metadata": {},
   "outputs": [
    {
     "data": {
      "text/plain": [
       "b'\"{\\'venue_code\\': [{\\'name\\': \\'KKL101\\'}], \\'contacts\\': [{\\'hkuid\\': \\'3035535066\\'}, {\\'hkuid\\': \\'3035535090\\'}], \\'subject\\': {\\'hkuid\\': 3035535066, \\'datetime\\': \\'2022-04-17 23:55:00\\'}}\"'"
      ]
     },
     "execution_count": 48,
     "metadata": {},
     "output_type": "execute_result"
    }
   ],
   "source": [
    "params4={\"hkuid\":\"3035535066\",\"datetime\":\"2022-04-17 23:55:00\"}\n",
    "response=requests.post(\"https://shielded-tor-28383.herokuapp.com/studysafe_core/api_trace\",data=json.dumps(params4),headers = {'content-type':'application/json'})\n",
    "response.content"
   ]
  },
  {
   "cell_type": "code",
   "execution_count": 55,
   "metadata": {},
   "outputs": [
    {
     "data": {
      "text/plain": [
       "{'venue_code': [{'name': 'KKL101'}],\n",
       " 'contacts': [{'hkuid': '3035535066'}, {'hkuid': '3035535090'}],\n",
       " 'subject': {'hkuid': 3035535066, 'datetime': '2022-04-17 23:55:00'}}"
      ]
     },
     "execution_count": 55,
     "metadata": {},
     "output_type": "execute_result"
    }
   ],
   "source": [
    "import ast\n",
    "ast.literal_eval(json.loads(response.content))"
   ]
  },
  {
   "cell_type": "code",
   "execution_count": null,
   "metadata": {},
   "outputs": [],
   "source": []
  }
 ],
 "metadata": {
  "interpreter": {
   "hash": "ab5b9eea64e5d7e7eb68b05df47adb6ad57048add55959fe6549673440373be7"
  },
  "kernelspec": {
   "display_name": "Python 3.7.11 ('base')",
   "language": "python",
   "name": "python3"
  },
  "language_info": {
   "codemirror_mode": {
    "name": "ipython",
    "version": 3
   },
   "file_extension": ".py",
   "mimetype": "text/x-python",
   "name": "python",
   "nbconvert_exporter": "python",
   "pygments_lexer": "ipython3",
   "version": "3.7.11"
  },
  "orig_nbformat": 4
 },
 "nbformat": 4,
 "nbformat_minor": 2
}