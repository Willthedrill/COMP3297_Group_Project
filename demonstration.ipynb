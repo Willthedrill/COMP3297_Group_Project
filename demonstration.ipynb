{
 "cells": [
  {
   "cell_type": "code",
   "execution_count": 8,
   "metadata": {},
   "outputs": [],
   "source": [
    "import requests\n",
    "import datetime\n",
    "import json\n",
    "import random\n",
    "import pandas as pd\n",
    "def json_serialize(params):\n",
    "    return json.dumps(params, indent=4, sort_keys=True, default=str)"
   ]
  },
  {
   "cell_type": "code",
   "execution_count": 9,
   "metadata": {},
   "outputs": [],
   "source": [
    "def display_detail(response,return_df=False):\n",
    "    raw=json.loads(response.content.decode('utf-8'))\n",
    "    for i in range(len(raw)):\n",
    "        try:\n",
    "            if not return_df:\n",
    "                display(pd.DataFrame(raw[i]['data']))\n",
    "        except:\n",
    "            display(raw[i])\n",
    "    if return_df:\n",
    "        try:\n",
    "            return pd.DataFrame(raw[0]['data'])\n",
    "        except Exception as e:\n",
    "            display(str(e))\n",
    "            "
   ]
  },
  {
   "cell_type": "code",
   "execution_count": 3,
   "metadata": {},
   "outputs": [],
   "source": [
    "core_path=\"https://shielded-tor-28383.herokuapp.com/studysafe_core/api_device\"\n",
    "local_core_path='http://localhost:8000/studysafe_core'"
   ]
  },
  {
   "cell_type": "markdown",
   "metadata": {},
   "source": [
    "# Accessing studysafe_core to generate data"
   ]
  },
  {
   "cell_type": "code",
   "execution_count": null,
   "metadata": {},
   "outputs": [],
   "source": [
    "#Create Venue List\n",
    "num_LT,num_CR,num_TR=30,30,30\n",
    "LT_list=['LT'+str(i).zfill(3) for i in range(num_LT)]\n",
    "TR_list=['TR'+str(i).zfill(3) for i in range(num_TR)]\n",
    "CR_list=['CR'+str(i).zfill(3) for i in range(num_CR)]\n",
    "LT_cap=dict(zip(LT_list,[int(random.random()*100)+10 for i in range(num_LT)]))\n",
    "TR_cap=dict(zip(TR_list,[int(random.random()*20)+10 for i in range(num_TR)]))\n",
    "CR_cap=dict(zip(CR_list,[int(random.random()*100)+10 for i in range(num_CR)]))\n",
    "create_LT_list=[{'venue_code':LT_list[i],'location':'CPD','type':'LT','capacity':LT_cap[LT_list[i]]} for i in range(len(LT_list))]\n",
    "create_CR_list=[{'venue_code':CR_list[i],'location':'CPD','type':'CR','capacity':CR_cap[CR_list[i]]} for i in range(len(CR_list))]\n",
    "create_TR_list=[{'venue_code':TR_list[i],'location':'CPD','type':'TR','capacity':TR_cap[TR_list[i]]} for i in range(len(TR_list))]\n",
    "params={'type':'create_venue','content':create_LT_list}\n",
    "response=requests.post(local_core_path+'/api_device',data=json.dumps(params),headers = {'content-type':'application/json'})\n",
    "params={'type':'create_venue','content':create_CR_list}\n",
    "response=requests.post(local_core_path+'/api_device',data=json.dumps(params),headers = {'content-type':'application/json'})\n",
    "params={'type':'create_venue','content':create_TR_list}\n",
    "response=requests.post(local_core_path+'/api_device',data=json.dumps(params),headers = {'content-type':'application/json'})\n",
    "display_detail(response,return_df=False)"
   ]
  },
  {
   "cell_type": "markdown",
   "metadata": {},
   "source": [
    "## delet all current venues"
   ]
  },
  {
   "cell_type": "code",
   "execution_count": null,
   "metadata": {},
   "outputs": [],
   "source": [
    "#if want to delete all current values in the record database\n",
    "# params={\"type\":\"list_all_venue\"}\n",
    "# response=requests.post(local_core_path+'/api_device',data=params)\n",
    "# current_df=display_detail(response,return_df=True)\n",
    "\n",
    "# delete_list=[{'recordid':list(current_df['id'])[i]} for i in range(len(current_df))]\n",
    "# delete_list\n",
    "# params={\"type\":\"delete\",'content':delete_list}\n",
    "# response=requests.post(local_core_path+'/api_device',data=json.dumps(params),headers = {'content-type':'application/json'})\n",
    "# display_detail(response)\n",
    "# # existing_record=pd.DataFrame(json.loads(response.content.decode('utf-8')))\n",
    "# # existing_record\n",
    "# display_detail(response)"
   ]
  },
  {
   "cell_type": "markdown",
   "metadata": {},
   "source": [
    "## list all generated venue codes"
   ]
  },
  {
   "cell_type": "code",
   "execution_count": 7,
   "metadata": {},
   "outputs": [
    {
     "data": {
      "text/plain": [
       "200"
      ]
     },
     "execution_count": 7,
     "metadata": {},
     "output_type": "execute_result"
    }
   ],
   "source": []
  },
  {
   "cell_type": "code",
   "execution_count": 5,
   "metadata": {},
   "outputs": [
    {
     "data": {
      "text/html": [
       "<div>\n",
       "<style scoped>\n",
       "    .dataframe tbody tr th:only-of-type {\n",
       "        vertical-align: middle;\n",
       "    }\n",
       "\n",
       "    .dataframe tbody tr th {\n",
       "        vertical-align: top;\n",
       "    }\n",
       "\n",
       "    .dataframe thead th {\n",
       "        text-align: right;\n",
       "    }\n",
       "</style>\n",
       "<table border=\"1\" class=\"dataframe\">\n",
       "  <thead>\n",
       "    <tr style=\"text-align: right;\">\n",
       "      <th></th>\n",
       "      <th>venue_code</th>\n",
       "      <th>location</th>\n",
       "      <th>type</th>\n",
       "      <th>capacity</th>\n",
       "    </tr>\n",
       "  </thead>\n",
       "  <tbody>\n",
       "    <tr>\n",
       "      <th>0</th>\n",
       "      <td>CR000</td>\n",
       "      <td>CPD</td>\n",
       "      <td>CR</td>\n",
       "      <td>95</td>\n",
       "    </tr>\n",
       "    <tr>\n",
       "      <th>1</th>\n",
       "      <td>CR001</td>\n",
       "      <td>CPD</td>\n",
       "      <td>CR</td>\n",
       "      <td>78</td>\n",
       "    </tr>\n",
       "    <tr>\n",
       "      <th>2</th>\n",
       "      <td>CR002</td>\n",
       "      <td>CPD</td>\n",
       "      <td>CR</td>\n",
       "      <td>68</td>\n",
       "    </tr>\n",
       "    <tr>\n",
       "      <th>3</th>\n",
       "      <td>CR003</td>\n",
       "      <td>CPD</td>\n",
       "      <td>CR</td>\n",
       "      <td>55</td>\n",
       "    </tr>\n",
       "    <tr>\n",
       "      <th>4</th>\n",
       "      <td>CR004</td>\n",
       "      <td>CPD</td>\n",
       "      <td>CR</td>\n",
       "      <td>40</td>\n",
       "    </tr>\n",
       "    <tr>\n",
       "      <th>...</th>\n",
       "      <td>...</td>\n",
       "      <td>...</td>\n",
       "      <td>...</td>\n",
       "      <td>...</td>\n",
       "    </tr>\n",
       "    <tr>\n",
       "      <th>91</th>\n",
       "      <td>TR025</td>\n",
       "      <td>CPD</td>\n",
       "      <td>TR</td>\n",
       "      <td>25</td>\n",
       "    </tr>\n",
       "    <tr>\n",
       "      <th>92</th>\n",
       "      <td>TR026</td>\n",
       "      <td>CPD</td>\n",
       "      <td>TR</td>\n",
       "      <td>21</td>\n",
       "    </tr>\n",
       "    <tr>\n",
       "      <th>93</th>\n",
       "      <td>TR027</td>\n",
       "      <td>CPD</td>\n",
       "      <td>TR</td>\n",
       "      <td>26</td>\n",
       "    </tr>\n",
       "    <tr>\n",
       "      <th>94</th>\n",
       "      <td>TR028</td>\n",
       "      <td>CPD</td>\n",
       "      <td>TR</td>\n",
       "      <td>24</td>\n",
       "    </tr>\n",
       "    <tr>\n",
       "      <th>95</th>\n",
       "      <td>TR029</td>\n",
       "      <td>CPD</td>\n",
       "      <td>TR</td>\n",
       "      <td>50</td>\n",
       "    </tr>\n",
       "  </tbody>\n",
       "</table>\n",
       "<p>96 rows × 4 columns</p>\n",
       "</div>"
      ],
      "text/plain": [
       "   venue_code location type  capacity\n",
       "0       CR000      CPD   CR        95\n",
       "1       CR001      CPD   CR        78\n",
       "2       CR002      CPD   CR        68\n",
       "3       CR003      CPD   CR        55\n",
       "4       CR004      CPD   CR        40\n",
       "..        ...      ...  ...       ...\n",
       "91      TR025      CPD   TR        25\n",
       "92      TR026      CPD   TR        21\n",
       "93      TR027      CPD   TR        26\n",
       "94      TR028      CPD   TR        24\n",
       "95      TR029      CPD   TR        50\n",
       "\n",
       "[96 rows x 4 columns]"
      ]
     },
     "execution_count": 5,
     "metadata": {},
     "output_type": "execute_result"
    }
   ],
   "source": [
    "params={\"type\":\"list_all_venue\"}\n",
    "response=requests.post(local_core_path+'/api_device',data=params)\n",
    "venue_df=display_detail(response,return_df=True)\n",
    "venue_df"
   ]
  },
  {
   "cell_type": "markdown",
   "metadata": {},
   "source": [
    "## modify venue record"
   ]
  },
  {
   "cell_type": "code",
   "execution_count": 10,
   "metadata": {},
   "outputs": [
    {
     "data": {
      "text/plain": [
       "{'state': \"Successfully modified venue with parameters {'venue_code': 'TR029', 'capacity': 50}\"}"
      ]
     },
     "metadata": {},
     "output_type": "display_data"
    },
    {
     "data": {
      "text/html": [
       "<div>\n",
       "<style scoped>\n",
       "    .dataframe tbody tr th:only-of-type {\n",
       "        vertical-align: middle;\n",
       "    }\n",
       "\n",
       "    .dataframe tbody tr th {\n",
       "        vertical-align: top;\n",
       "    }\n",
       "\n",
       "    .dataframe thead th {\n",
       "        text-align: right;\n",
       "    }\n",
       "</style>\n",
       "<table border=\"1\" class=\"dataframe\">\n",
       "  <thead>\n",
       "    <tr style=\"text-align: right;\">\n",
       "      <th></th>\n",
       "      <th>venue_code</th>\n",
       "      <th>location</th>\n",
       "      <th>type</th>\n",
       "      <th>capacity</th>\n",
       "    </tr>\n",
       "  </thead>\n",
       "  <tbody>\n",
       "    <tr>\n",
       "      <th>0</th>\n",
       "      <td>CR000</td>\n",
       "      <td>CPD</td>\n",
       "      <td>CR</td>\n",
       "      <td>95</td>\n",
       "    </tr>\n",
       "    <tr>\n",
       "      <th>1</th>\n",
       "      <td>CR001</td>\n",
       "      <td>CPD</td>\n",
       "      <td>CR</td>\n",
       "      <td>78</td>\n",
       "    </tr>\n",
       "    <tr>\n",
       "      <th>2</th>\n",
       "      <td>CR002</td>\n",
       "      <td>CPD</td>\n",
       "      <td>CR</td>\n",
       "      <td>68</td>\n",
       "    </tr>\n",
       "    <tr>\n",
       "      <th>3</th>\n",
       "      <td>CR003</td>\n",
       "      <td>CPD</td>\n",
       "      <td>CR</td>\n",
       "      <td>55</td>\n",
       "    </tr>\n",
       "    <tr>\n",
       "      <th>4</th>\n",
       "      <td>CR004</td>\n",
       "      <td>CPD</td>\n",
       "      <td>CR</td>\n",
       "      <td>40</td>\n",
       "    </tr>\n",
       "    <tr>\n",
       "      <th>...</th>\n",
       "      <td>...</td>\n",
       "      <td>...</td>\n",
       "      <td>...</td>\n",
       "      <td>...</td>\n",
       "    </tr>\n",
       "    <tr>\n",
       "      <th>91</th>\n",
       "      <td>TR025</td>\n",
       "      <td>CPD</td>\n",
       "      <td>TR</td>\n",
       "      <td>25</td>\n",
       "    </tr>\n",
       "    <tr>\n",
       "      <th>92</th>\n",
       "      <td>TR026</td>\n",
       "      <td>CPD</td>\n",
       "      <td>TR</td>\n",
       "      <td>21</td>\n",
       "    </tr>\n",
       "    <tr>\n",
       "      <th>93</th>\n",
       "      <td>TR027</td>\n",
       "      <td>CPD</td>\n",
       "      <td>TR</td>\n",
       "      <td>26</td>\n",
       "    </tr>\n",
       "    <tr>\n",
       "      <th>94</th>\n",
       "      <td>TR028</td>\n",
       "      <td>CPD</td>\n",
       "      <td>TR</td>\n",
       "      <td>24</td>\n",
       "    </tr>\n",
       "    <tr>\n",
       "      <th>95</th>\n",
       "      <td>TR029</td>\n",
       "      <td>CPD</td>\n",
       "      <td>TR</td>\n",
       "      <td>50</td>\n",
       "    </tr>\n",
       "  </tbody>\n",
       "</table>\n",
       "<p>96 rows × 4 columns</p>\n",
       "</div>"
      ],
      "text/plain": [
       "   venue_code location type  capacity\n",
       "0       CR000      CPD   CR        95\n",
       "1       CR001      CPD   CR        78\n",
       "2       CR002      CPD   CR        68\n",
       "3       CR003      CPD   CR        55\n",
       "4       CR004      CPD   CR        40\n",
       "..        ...      ...  ...       ...\n",
       "91      TR025      CPD   TR        25\n",
       "92      TR026      CPD   TR        21\n",
       "93      TR027      CPD   TR        26\n",
       "94      TR028      CPD   TR        24\n",
       "95      TR029      CPD   TR        50\n",
       "\n",
       "[96 rows x 4 columns]"
      ]
     },
     "execution_count": 10,
     "metadata": {},
     "output_type": "execute_result"
    }
   ],
   "source": [
    "# for those parameters that we don't want to change value for, simply set it to blank\n",
    "params={\"type\":\"modify_venue\",'content':[{'venue_code':'TR029','location':'','type':'','capacity':50}]}\n",
    "response=requests.post(local_core_path+'/api_device',data=json.dumps(params),headers = {'content-type':'application/json'})\n",
    "display_detail(response)\n",
    "params={\"type\":\"list_all_venue\"}\n",
    "response=requests.post(local_core_path+'/api_device',data=params)\n",
    "venue_df=display_detail(response,return_df=True)\n",
    "venue_df"
   ]
  },
  {
   "cell_type": "markdown",
   "metadata": {},
   "source": [
    "## create students records"
   ]
  },
  {
   "cell_type": "code",
   "execution_count": 332,
   "metadata": {},
   "outputs": [],
   "source": [
    "prefix='3035535'\n",
    "create_student_list=[]\n",
    "for i in list(set(list([random.choice(range(1000)) for i in range(100)]))):\n",
    "    create_student_list.append({'hkuid':prefix+str(i).zfill(3),'name':random.choice(['Joey','Chandler','Monica','Racheal','Phoebe','Ross'])+str(i).zfill(3)})"
   ]
  },
  {
   "cell_type": "code",
   "execution_count": 352,
   "metadata": {},
   "outputs": [],
   "source": [
    "params={'type':'create_students','content':create_student_list}\n",
    "response=requests.post(local_core_path+'/api_device',data=json.dumps(params),headers = {'content-type':'application/json'})"
   ]
  },
  {
   "cell_type": "code",
   "execution_count": 354,
   "metadata": {},
   "outputs": [],
   "source": [
    "hkuid_list=[i['hkuid'] for i in create_student_list]"
   ]
  },
  {
   "cell_type": "markdown",
   "metadata": {},
   "source": [
    "## list all current student records"
   ]
  },
  {
   "cell_type": "code",
   "execution_count": 71,
   "metadata": {},
   "outputs": [
    {
     "data": {
      "text/html": [
       "<div>\n",
       "<style scoped>\n",
       "    .dataframe tbody tr th:only-of-type {\n",
       "        vertical-align: middle;\n",
       "    }\n",
       "\n",
       "    .dataframe tbody tr th {\n",
       "        vertical-align: top;\n",
       "    }\n",
       "\n",
       "    .dataframe thead th {\n",
       "        text-align: right;\n",
       "    }\n",
       "</style>\n",
       "<table border=\"1\" class=\"dataframe\">\n",
       "  <thead>\n",
       "    <tr style=\"text-align: right;\">\n",
       "      <th></th>\n",
       "      <th>hkuid</th>\n",
       "      <th>name</th>\n",
       "    </tr>\n",
       "  </thead>\n",
       "  <tbody>\n",
       "    <tr>\n",
       "      <th>0</th>\n",
       "      <td>3035535000</td>\n",
       "      <td>Racheal000</td>\n",
       "    </tr>\n",
       "    <tr>\n",
       "      <th>1</th>\n",
       "      <td>3035535025</td>\n",
       "      <td>Phoebe025</td>\n",
       "    </tr>\n",
       "    <tr>\n",
       "      <th>2</th>\n",
       "      <td>3035535033</td>\n",
       "      <td>Monica033</td>\n",
       "    </tr>\n",
       "    <tr>\n",
       "      <th>3</th>\n",
       "      <td>3035535050</td>\n",
       "      <td>Phoebe050</td>\n",
       "    </tr>\n",
       "    <tr>\n",
       "      <th>4</th>\n",
       "      <td>3035535055</td>\n",
       "      <td>Newton</td>\n",
       "    </tr>\n",
       "    <tr>\n",
       "      <th>...</th>\n",
       "      <td>...</td>\n",
       "      <td>...</td>\n",
       "    </tr>\n",
       "    <tr>\n",
       "      <th>98</th>\n",
       "      <td>3035535959</td>\n",
       "      <td>Racheal959</td>\n",
       "    </tr>\n",
       "    <tr>\n",
       "      <th>99</th>\n",
       "      <td>3035535965</td>\n",
       "      <td>Racheal965</td>\n",
       "    </tr>\n",
       "    <tr>\n",
       "      <th>100</th>\n",
       "      <td>3035535967</td>\n",
       "      <td>Ross967</td>\n",
       "    </tr>\n",
       "    <tr>\n",
       "      <th>101</th>\n",
       "      <td>3035535981</td>\n",
       "      <td>Ross981</td>\n",
       "    </tr>\n",
       "    <tr>\n",
       "      <th>102</th>\n",
       "      <td>3035535985</td>\n",
       "      <td>Racheal Green</td>\n",
       "    </tr>\n",
       "  </tbody>\n",
       "</table>\n",
       "<p>103 rows × 2 columns</p>\n",
       "</div>"
      ],
      "text/plain": [
       "          hkuid           name\n",
       "0    3035535000     Racheal000\n",
       "1    3035535025      Phoebe025\n",
       "2    3035535033      Monica033\n",
       "3    3035535050      Phoebe050\n",
       "4    3035535055         Newton\n",
       "..          ...            ...\n",
       "98   3035535959     Racheal959\n",
       "99   3035535965     Racheal965\n",
       "100  3035535967        Ross967\n",
       "101  3035535981        Ross981\n",
       "102  3035535985  Racheal Green\n",
       "\n",
       "[103 rows x 2 columns]"
      ]
     },
     "execution_count": 71,
     "metadata": {},
     "output_type": "execute_result"
    }
   ],
   "source": [
    "params={'type':'list_all_students'}\n",
    "response=requests.post(local_core_path+'/api_device',data=json.dumps(params),headers = {'content-type':'application/json'})\n",
    "current_student_df=display_detail(response,return_df=True)\n",
    "current_student_df"
   ]
  },
  {
   "cell_type": "markdown",
   "metadata": {},
   "source": [
    "## delete member"
   ]
  },
  {
   "cell_type": "code",
   "execution_count": 54,
   "metadata": {},
   "outputs": [
    {
     "data": {
      "text/plain": [
       "{'state': '{\"hkuid\": \"3035535999\", \"message\": \"HKU member record deleted successfully.\"}'}"
      ]
     },
     "metadata": {},
     "output_type": "display_data"
    }
   ],
   "source": [
    "params={'type':'delete_student','content':[{'hkuid':'3035535999'}]}\n",
    "response=requests.post(local_core_path+'/api_device',data=json.dumps(params),headers = {'content-type':'application/json'})\n",
    "display_detail(response)"
   ]
  },
  {
   "cell_type": "markdown",
   "metadata": {},
   "source": [
    "## search member"
   ]
  },
  {
   "cell_type": "code",
   "execution_count": 72,
   "metadata": {},
   "outputs": [
    {
     "data": {
      "text/plain": [
       "{'state': '{\"hkuid\": \"3035535000\", \"name\": \"Racheal000\"}',\n",
       " 'cmd': 'search_student',\n",
       " 'data': {'hkuid': '3035535000', 'name': 'Racheal000'}}"
      ]
     },
     "metadata": {},
     "output_type": "display_data"
    }
   ],
   "source": [
    "params={'type':'search_student','content':[{'hkuid':'3035535000'}]}\n",
    "response=requests.post(local_core_path+'/api_device',data=json.dumps(params),headers = {'content-type':'application/json'})\n",
    "display_detail(response)"
   ]
  },
  {
   "cell_type": "markdown",
   "metadata": {},
   "source": [
    "## udpate member"
   ]
  },
  {
   "cell_type": "code",
   "execution_count": 73,
   "metadata": {},
   "outputs": [
    {
     "data": {
      "text/plain": [
       "{'state': '{\"hkuid\": \"3035535000\", \"message\": \"HKU member record updated successfully.\"}'}"
      ]
     },
     "metadata": {},
     "output_type": "display_data"
    }
   ],
   "source": [
    "params={'type':'update_student','content':[{'hkuid':'3035535000','name':'Chandler Bing'}]}\n",
    "response=requests.post(local_core_path+'/api_device',data=json.dumps(params),headers = {'content-type':'application/json'})\n",
    "display_detail(response)"
   ]
  },
  {
   "cell_type": "code",
   "execution_count": null,
   "metadata": {},
   "outputs": [],
   "source": []
  },
  {
   "cell_type": "markdown",
   "metadata": {},
   "source": [
    "## create enter and exit record"
   ]
  },
  {
   "cell_type": "code",
   "execution_count": null,
   "metadata": {},
   "outputs": [],
   "source": [
    "from datetime import datetime, timedelta\n",
    "import random\n",
    "def generate_periods(start, end, durations):\n",
    "    durations = [timedelta(minutes=m) for m in durations]\n",
    "\n",
    "    total_duration = sum(durations, timedelta())\n",
    "    nb_periods = len(durations)\n",
    "    open_duration = (end - start) - total_duration\n",
    "\n",
    "    delays = sorted(timedelta(seconds=s) \n",
    "                    for s in random.sample(range(0, int(open_duration.total_seconds())), nb_periods))\n",
    "    periods = []\n",
    "    periods_before = timedelta()\n",
    "    for delay, duration in zip(delays, durations):\n",
    "        periods.append((start + delay + periods_before,\n",
    "                        start + delay + periods_before + duration))\n",
    "        periods_before += duration\n",
    "\n",
    "    return periods"
   ]
  },
  {
   "cell_type": "code",
   "execution_count": null,
   "metadata": {},
   "outputs": [],
   "source": [
    "venue_list=list(venue_df['venue_code'])\n",
    "start_time=datetime(2022,3,1,0,0)\n",
    "end_time=datetime(2022,4,30,0,0)\n",
    "durations=[random.random()*120+30 for i in range(70)]\n",
    "enter_exit=[]\n",
    "for hkuid in hkuid_list:\n",
    "    time_list=generate_periods(start_time,end_time,durations)\n",
    "    for i in range(len(time_list)):\n",
    "        venue_code=random.choice(venue_list)\n",
    "        enter_exit.append({'hkuid':hkuid,'venue_code':venue_code,'datetime':time_list[i][0].strftime('%Y-%m-%d %H:%M:%S'),'type':'EN'})\n",
    "        enter_exit.append({'hkuid':hkuid,'venue_code':venue_code,'datetime':time_list[i][1].strftime('%Y-%m-%d %H:%M:%S'),'type':'EX'})"
   ]
  },
  {
   "cell_type": "code",
   "execution_count": 377,
   "metadata": {},
   "outputs": [],
   "source": [
    "params={'type':'create','content':enter_exit}\n",
    "response=requests.post(local_core_path+'/api_device',data=json.dumps(params),headers = {'content-type':'application/json'})"
   ]
  },
  {
   "cell_type": "markdown",
   "metadata": {},
   "source": [
    "## list all existing records"
   ]
  },
  {
   "cell_type": "code",
   "execution_count": 10,
   "metadata": {},
   "outputs": [
    {
     "data": {
      "text/html": [
       "<div>\n",
       "<style scoped>\n",
       "    .dataframe tbody tr th:only-of-type {\n",
       "        vertical-align: middle;\n",
       "    }\n",
       "\n",
       "    .dataframe tbody tr th {\n",
       "        vertical-align: top;\n",
       "    }\n",
       "\n",
       "    .dataframe thead th {\n",
       "        text-align: right;\n",
       "    }\n",
       "</style>\n",
       "<table border=\"1\" class=\"dataframe\">\n",
       "  <thead>\n",
       "    <tr style=\"text-align: right;\">\n",
       "      <th></th>\n",
       "      <th>id</th>\n",
       "      <th>hkuid_id</th>\n",
       "      <th>venue_code_id</th>\n",
       "      <th>datetime</th>\n",
       "      <th>type</th>\n",
       "    </tr>\n",
       "  </thead>\n",
       "  <tbody>\n",
       "    <tr>\n",
       "      <th>0</th>\n",
       "      <td>22</td>\n",
       "      <td>3035535000</td>\n",
       "      <td>TR024</td>\n",
       "      <td>2022-03-04 06:08:39</td>\n",
       "      <td>EN</td>\n",
       "    </tr>\n",
       "    <tr>\n",
       "      <th>1</th>\n",
       "      <td>23</td>\n",
       "      <td>3035535000</td>\n",
       "      <td>TR024</td>\n",
       "      <td>2022-03-04 08:35:54</td>\n",
       "      <td>EX</td>\n",
       "    </tr>\n",
       "    <tr>\n",
       "      <th>2</th>\n",
       "      <td>24</td>\n",
       "      <td>3035535000</td>\n",
       "      <td>CR008</td>\n",
       "      <td>2022-03-05 04:04:20</td>\n",
       "      <td>EN</td>\n",
       "    </tr>\n",
       "    <tr>\n",
       "      <th>3</th>\n",
       "      <td>25</td>\n",
       "      <td>3035535000</td>\n",
       "      <td>CR008</td>\n",
       "      <td>2022-03-05 06:30:19</td>\n",
       "      <td>EX</td>\n",
       "    </tr>\n",
       "    <tr>\n",
       "      <th>4</th>\n",
       "      <td>26</td>\n",
       "      <td>3035535000</td>\n",
       "      <td>LT021</td>\n",
       "      <td>2022-03-06 07:57:51</td>\n",
       "      <td>EN</td>\n",
       "    </tr>\n",
       "    <tr>\n",
       "      <th>...</th>\n",
       "      <td>...</td>\n",
       "      <td>...</td>\n",
       "      <td>...</td>\n",
       "      <td>...</td>\n",
       "      <td>...</td>\n",
       "    </tr>\n",
       "    <tr>\n",
       "      <th>7835</th>\n",
       "      <td>7937</td>\n",
       "      <td>3035535507</td>\n",
       "      <td>LT026</td>\n",
       "      <td>2022-04-26 20:27:42</td>\n",
       "      <td>EX</td>\n",
       "    </tr>\n",
       "    <tr>\n",
       "      <th>7836</th>\n",
       "      <td>7938</td>\n",
       "      <td>3035535507</td>\n",
       "      <td>LT017</td>\n",
       "      <td>2022-04-28 17:28:36</td>\n",
       "      <td>EN</td>\n",
       "    </tr>\n",
       "    <tr>\n",
       "      <th>7837</th>\n",
       "      <td>7939</td>\n",
       "      <td>3035535507</td>\n",
       "      <td>LT017</td>\n",
       "      <td>2022-04-28 19:28:31</td>\n",
       "      <td>EX</td>\n",
       "    </tr>\n",
       "    <tr>\n",
       "      <th>7838</th>\n",
       "      <td>7940</td>\n",
       "      <td>3035535507</td>\n",
       "      <td>TR001</td>\n",
       "      <td>2022-04-29 19:07:40</td>\n",
       "      <td>EN</td>\n",
       "    </tr>\n",
       "    <tr>\n",
       "      <th>7839</th>\n",
       "      <td>7941</td>\n",
       "      <td>3035535507</td>\n",
       "      <td>TR001</td>\n",
       "      <td>2022-04-29 20:35:12</td>\n",
       "      <td>EX</td>\n",
       "    </tr>\n",
       "  </tbody>\n",
       "</table>\n",
       "<p>7840 rows × 5 columns</p>\n",
       "</div>"
      ],
      "text/plain": [
       "        id    hkuid_id venue_code_id             datetime type\n",
       "0       22  3035535000         TR024  2022-03-04 06:08:39   EN\n",
       "1       23  3035535000         TR024  2022-03-04 08:35:54   EX\n",
       "2       24  3035535000         CR008  2022-03-05 04:04:20   EN\n",
       "3       25  3035535000         CR008  2022-03-05 06:30:19   EX\n",
       "4       26  3035535000         LT021  2022-03-06 07:57:51   EN\n",
       "...    ...         ...           ...                  ...  ...\n",
       "7835  7937  3035535507         LT026  2022-04-26 20:27:42   EX\n",
       "7836  7938  3035535507         LT017  2022-04-28 17:28:36   EN\n",
       "7837  7939  3035535507         LT017  2022-04-28 19:28:31   EX\n",
       "7838  7940  3035535507         TR001  2022-04-29 19:07:40   EN\n",
       "7839  7941  3035535507         TR001  2022-04-29 20:35:12   EX\n",
       "\n",
       "[7840 rows x 5 columns]"
      ]
     },
     "execution_count": 10,
     "metadata": {},
     "output_type": "execute_result"
    }
   ],
   "source": [
    "params={\"type\":\"list\"}\n",
    "response=requests.post(local_core_path+'/api_device',data=params)\n",
    "# existing_record=pd.DataFrame(json.loads(response.content.decode('utf-8')))\n",
    "# existing_record\n",
    "display_detail(response,return_df=True)"
   ]
  },
  {
   "cell_type": "code",
   "execution_count": 82,
   "metadata": {},
   "outputs": [],
   "source": [
    "# below demonstration using localhost"
   ]
  },
  {
   "cell_type": "markdown",
   "metadata": {},
   "source": [
    "# Using Studysafe Trace to trace the venues visited by a specific person"
   ]
  },
  {
   "cell_type": "markdown",
   "metadata": {},
   "source": [
    "### format of diagnosis time must be %Y-%m-%d_%H:%M:%S "
   ]
  },
  {
   "cell_type": "code",
   "execution_count": 47,
   "metadata": {},
   "outputs": [],
   "source": [
    "params={'hkuid':'3035535000','diagnosis_time':'2022-03-07_20:00:00'}\n",
    "local_trace_url=\"http://localhost:8000/studysafe_trace/trace_venue/\"\n",
    "url=local_trace_url+params['hkuid']+\"/\"+params['diagnosis_time']"
   ]
  },
  {
   "cell_type": "code",
   "execution_count": 74,
   "metadata": {},
   "outputs": [
    {
     "data": {
      "text/plain": [
       "'http://localhost:8000/studysafe_trace/trace_venue/3035535000/2022-03-07_20:00:00'"
      ]
     },
     "execution_count": 74,
     "metadata": {},
     "output_type": "execute_result"
    }
   ],
   "source": [
    "# it's more recommended to visit the url through browser directly\n",
    "url"
   ]
  },
  {
   "cell_type": "code",
   "execution_count": 50,
   "metadata": {},
   "outputs": [],
   "source": [
    "response=requests.get(url)"
   ]
  },
  {
   "cell_type": "markdown",
   "metadata": {},
   "source": [
    "# Using Studysafe Trace to trace the close contact of a specific person"
   ]
  },
  {
   "cell_type": "code",
   "execution_count": 80,
   "metadata": {},
   "outputs": [],
   "source": [
    "params={'hkuid':'3035535066','diagnosis_time':'2022-04-17_23:50:55'}\n",
    "local_trace_url=\"http://localhost:8000/studysafe_trace/trace_contacts/\"\n",
    "url=local_trace_url+params['hkuid']+\"/\"+params['diagnosis_time']"
   ]
  },
  {
   "cell_type": "code",
   "execution_count": 81,
   "metadata": {},
   "outputs": [
    {
     "data": {
      "text/plain": [
       "'http://localhost:8000/studysafe_trace/trace_contacts/3035535066/2022-04-17_23:50:55'"
      ]
     },
     "execution_count": 81,
     "metadata": {},
     "output_type": "execute_result"
    }
   ],
   "source": [
    "url"
   ]
  },
  {
   "cell_type": "code",
   "execution_count": 5,
   "metadata": {},
   "outputs": [],
   "source": [
    "response=requests.get(local_trace_contact)"
   ]
  },
  {
   "cell_type": "code",
   "execution_count": null,
   "metadata": {},
   "outputs": [],
   "source": []
  }
 ],
 "metadata": {
  "interpreter": {
   "hash": "ab5b9eea64e5d7e7eb68b05df47adb6ad57048add55959fe6549673440373be7"
  },
  "kernelspec": {
   "display_name": "Python 3.7.11 ('base')",
   "language": "python",
   "name": "python3"
  },
  "language_info": {
   "codemirror_mode": {
    "name": "ipython",
    "version": 3
   },
   "file_extension": ".py",
   "mimetype": "text/x-python",
   "name": "python",
   "nbconvert_exporter": "python",
   "pygments_lexer": "ipython3",
   "version": "3.7.11"
  },
  "orig_nbformat": 4
 },
 "nbformat": 4,
 "nbformat_minor": 2
}
