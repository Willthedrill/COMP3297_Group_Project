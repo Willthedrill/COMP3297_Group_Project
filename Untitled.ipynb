{
 "cells": [
  {
   "cell_type": "code",
   "execution_count": 14,
   "id": "bc2ea623",
   "metadata": {},
   "outputs": [],
   "source": [
    "from studysafe_core.models import *"
   ]
  },
  {
   "cell_type": "code",
   "execution_count": 15,
   "id": "4a4ff3d2",
   "metadata": {},
   "outputs": [],
   "source": [
    "from studysafe_core.serializers import *"
   ]
  },
  {
   "cell_type": "code",
   "execution_count": 16,
   "id": "5b085fdc",
   "metadata": {},
   "outputs": [],
   "source": []
  },
  {
   "cell_type": "code",
   "execution_count": 17,
   "id": "12e2d5a4",
   "metadata": {},
   "outputs": [],
   "source": [
    "records_serialized=RecordSerializer(records,many=True)"
   ]
  },
  {
   "cell_type": "code",
   "execution_count": 25,
   "id": "13d0a9eb",
   "metadata": {},
   "outputs": [],
   "source": [
    "import pandas as pd"
   ]
  },
  {
   "cell_type": "code",
   "execution_count": 32,
   "id": "ba4afd94",
   "metadata": {},
   "outputs": [],
   "source": [
    "hkuid=\"3035535066\"\n",
    "infectious_time=\"2022-04-18 20:00:00\""
   ]
  },
  {
   "cell_type": "code",
   "execution_count": 37,
   "id": "f61a335a",
   "metadata": {},
   "outputs": [],
   "source": [
    "import datetime"
   ]
  },
  {
   "cell_type": "code",
   "execution_count": 54,
   "id": "644a088a",
   "metadata": {},
   "outputs": [],
   "source": [
    "def trace_venues(hkuid,infectious_time):\n",
    "    import pandas as pd\n",
    "    infectious_time=pd.to_datetime(infectious_time,format=\"%Y-%m-%d %H:%M:%S\")\n",
    "    start_infectious_time=infectious_time+datetime.timedelta(days=-2)\n",
    "    records = Record.objects.all().values()\n",
    "    records=pd.DataFrame(records)\n",
    "    records['datetime']=records['datetime'].apply(lambda x:pd.to_datetime(x,format=\"%Y-%m-%d %H:%M:%S\"))\n",
    "    temp_records=records.loc[records['hkuid_id']==hkuid]\n",
    "    venue_record=temp_records.loc[temp_records['datetime'].apply(lambda x:True if ((x<infectious_time)and (x>start_infectious_time)) else False)].sort_values('venue_code_id')\n",
    "    return list(venue_record['venue_code_id'].drop_duplicates().sort_values())"
   ]
  },
  {
   "cell_type": "code",
   "execution_count": 53,
   "id": "a80320b8",
   "metadata": {},
   "outputs": [
    {
     "data": {
      "text/plain": [
       "['KKL101']"
      ]
     },
     "execution_count": 53,
     "metadata": {},
     "output_type": "execute_result"
    }
   ],
   "source": []
  },
  {
   "cell_type": "code",
   "execution_count": 19,
   "id": "ce0fac3f",
   "metadata": {},
   "outputs": [],
   "source": [
    "import os\n",
    "os.environ.setdefault(\"DJANGO_SETTINGS_MODULE\", \"COMP3297_GROUP_PROJECT.settings\")\n",
    "import django\n",
    "os.environ[\"DJANGO_ALLOW_ASYNC_UNSAFE\"] = \"true\"\n",
    "django.setup()"
   ]
  },
  {
   "cell_type": "code",
   "execution_count": null,
   "id": "77cbe961",
   "metadata": {},
   "outputs": [],
   "source": []
  }
 ],
 "metadata": {
  "kernelspec": {
   "display_name": "Django Shell-Plus",
   "language": "python",
   "name": "django_extensions"
  },
  "language_info": {
   "codemirror_mode": {
    "name": "ipython",
    "version": 3
   },
   "file_extension": ".py",
   "mimetype": "text/x-python",
   "name": "python",
   "nbconvert_exporter": "python",
   "pygments_lexer": "ipython3",
   "version": "3.8.9"
  }
 },
 "nbformat": 4,
 "nbformat_minor": 5
}
